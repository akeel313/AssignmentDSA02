{
 "cells": [
  {
   "cell_type": "code",
   "execution_count": 1,
   "id": "f172cda0-10c5-4dea-9639-f4d66f209a15",
   "metadata": {},
   "outputs": [
    {
     "name": "stdout",
     "output_type": "stream",
     "text": [
      "True\n",
      "None\n"
     ]
    }
   ],
   "source": [
    "#1. Given an array, check if it contains any duplicates or not.\n",
    "#arr = [1, 2, 4, 2, 5, 9]\n",
    "#Output = True\n",
    "\n",
    "##defining function\n",
    "def CheckDuplicate(arr):\n",
    "  ##using properties of sets\n",
    "    arr2 = set(arr)\n",
    "    if arr2==arr:\n",
    "        print('False')\n",
    "    else:\n",
    "        print('True')\n",
    "\n",
    "\n",
    "#Driver Code\n",
    "arr = [1,2,3,4,2,5,9]\n",
    "result = CheckDuplicate(arr)\n",
    "print(result)"
   ]
  },
  {
   "cell_type": "code",
   "execution_count": 19,
   "id": "8a99dc3d-4694-4056-a54a-30e831d6d26b",
   "metadata": {},
   "outputs": [
    {
     "name": "stdout",
     "output_type": "stream",
     "text": [
      "5 6 7 1 2 3 4 "
     ]
    }
   ],
   "source": [
    "#2. Given an array and an integer k, rotate the array to the right by k steps.\n",
    "#arr = [1, 2, 3, 4, 5, 6, 7] k = 3\n",
    "#Output = [5, 6, 7, 1, 2, 3, 4]\n",
    "\n",
    "def rotate_array(arr, n, k):\n",
    "   \n",
    "    k %= n\n",
    "    arr[:n - k] = arr[:n - k][::-1]\n",
    "    arr[n - k:] = arr[n - k:][::-1]\n",
    "    arr[:] = arr[::-1]\n",
    " \n",
    " \n",
    "# Driver code\n",
    "arr = [1, 2, 3, 4, 5, 6, 7]\n",
    "n = len(arr)\n",
    "k = 3\n",
    " \n",
    "rotate_array(arr, n, k)\n",
    " \n",
    "for i in range(n):\n",
    "    print(arr[i], end=\" \")\n",
    "    \n",
    "    \n",
    "#Note didn't understand this after trying to solve it whole day \n",
    "#so i copied it \n",
    "#i understand the logic but not the code"
   ]
  },
  {
   "cell_type": "code",
   "execution_count": 3,
   "id": "a37fbd0d-7985-45dd-97b4-9c3ee67a57c3",
   "metadata": {},
   "outputs": [
    {
     "name": "stdout",
     "output_type": "stream",
     "text": [
      "[12, 9, 7, 5, 4, 2]\n",
      "None\n"
     ]
    }
   ],
   "source": [
    "#3. Reverse the given array in-place, means without using any extra data structure.\n",
    "\n",
    "#arr = [2, 4, 5, 7, 9, 12]\n",
    "\n",
    "#Output = [12, 9, 7, 5, 4, 2]\n",
    "\n",
    "#function definition\n",
    "\n",
    "def Reverse(arr):\n",
    "  print(arr[::-1])\n",
    "\n",
    "#Driver Code\n",
    "arr = [2,4,5,7,9,12]\n",
    "result = Reverse(arr)\n",
    "print(result)"
   ]
  },
  {
   "cell_type": "code",
   "execution_count": 4,
   "id": "1e3f38a6-3dd0-4407-95d2-6afb1b9314dc",
   "metadata": {},
   "outputs": [
    {
     "name": "stdout",
     "output_type": "stream",
     "text": [
      "20\n",
      "None\n"
     ]
    }
   ],
   "source": [
    "#4. Given an array of integers, find the maximum element in an array\n",
    "#arr = [10, 5, 20, 8, 15]\n",
    "#Output = 20\n",
    "\n",
    "#defining function\n",
    "def MaximumElement(arr):\n",
    "  max = 0\n",
    "  for element in arr:\n",
    "    if element>max:\n",
    "      max=element\n",
    "  print(max)\n",
    "\n",
    "#Driver Code\n",
    "arr = [10,5,20,8,15]\n",
    "result = MaximumElement(arr)\n",
    "print(result)"
   ]
  },
  {
   "cell_type": "code",
   "execution_count": 5,
   "id": "b19a4007-2d7e-42cd-858e-e9847e2c0e08",
   "metadata": {},
   "outputs": [
    {
     "name": "stdout",
     "output_type": "stream",
     "text": [
      "{1, 2, 3, 4, 5}\n",
      "None\n"
     ]
    }
   ],
   "source": [
    "#5. Given a sorted array, remove the duplicate element without using any extra data structure.\n",
    "#arr = [1, 1, 2, 2, 2, 3, 3, 4, 4, 4, 5, 5]\n",
    "#Output = [1, 2, 3, 4, 5]\n",
    "\n",
    "#defining function\n",
    "def RemoveDuplicate(arr):\n",
    "  print(set(arr))\n",
    "\n",
    "#Driver Code\n",
    "arr = [1, 1, 2, 2, 2, 3, 3, 4, 4, 4, 5, 5]\n",
    "result = RemoveDuplicate(arr)\n",
    "print(result)"
   ]
  }
 ],
 "metadata": {
  "kernelspec": {
   "display_name": "Python 3 (ipykernel)",
   "language": "python",
   "name": "python3"
  },
  "language_info": {
   "codemirror_mode": {
    "name": "ipython",
    "version": 3
   },
   "file_extension": ".py",
   "mimetype": "text/x-python",
   "name": "python",
   "nbconvert_exporter": "python",
   "pygments_lexer": "ipython3",
   "version": "3.10.8"
  }
 },
 "nbformat": 4,
 "nbformat_minor": 5
}
